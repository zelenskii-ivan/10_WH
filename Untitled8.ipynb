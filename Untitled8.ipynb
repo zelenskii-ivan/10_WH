{
 "cells": [
  {
   "cell_type": "code",
   "execution_count": 1,
   "id": "bb913064",
   "metadata": {},
   "outputs": [],
   "source": [
    "#1) Провести дисперсионный анализ для определения того, есть ли различия среднего роста среди взрослых футболистов,\n",
    "#хоккеистов и штангистов.\n",
    "#Даны значения роста в трех группах случайно выбранных спортсменов:\n",
    "#Футболисты: 173, 175, 180, 178, 177, 185, 183, 182.\n",
    "#Хоккеисты: 177, 179, 180, 188, 177, 172, 171, 184, 180.\n",
    "#Штангисты: 172, 173, 169, 177, 166, 180, 178, 177, 172, 166, 170."
   ]
  },
  {
   "cell_type": "code",
   "execution_count": 2,
   "id": "5702533c",
   "metadata": {},
   "outputs": [],
   "source": [
    "import numpy as np\n",
    "from scipy import stats\n",
    "import matplotlib.pyplot as plt"
   ]
  },
  {
   "cell_type": "code",
   "execution_count": 7,
   "id": "572b674a",
   "metadata": {},
   "outputs": [],
   "source": [
    "football = np.array([173, 175, 180, 178, 177, 185, 183, 182])\n",
    "hockey = np.array([177, 179, 180, 188, 177, 172, 171, 184, 180])\n",
    "fitness = np.array([172, 173, 169, 177, 166, 180, 178, 177, 172, 166, 170])"
   ]
  },
  {
   "cell_type": "code",
   "execution_count": 8,
   "id": "57f2e5e8",
   "metadata": {},
   "outputs": [],
   "source": [
    "n1 = football.shape[0]\n",
    "n2 = hockey.shape[0]\n",
    "n3 = fitness.shape[0]"
   ]
  },
  {
   "cell_type": "code",
   "execution_count": 12,
   "id": "a440da9a",
   "metadata": {},
   "outputs": [
    {
     "data": {
      "text/plain": [
       "179.125"
      ]
     },
     "execution_count": 12,
     "metadata": {},
     "output_type": "execute_result"
    }
   ],
   "source": [
    "football_mean = football.mean()\n",
    "football_mean #ср значение футболистов"
   ]
  },
  {
   "cell_type": "code",
   "execution_count": 13,
   "id": "b9c929e1",
   "metadata": {},
   "outputs": [
    {
     "data": {
      "text/plain": [
       "178.66666666666666"
      ]
     },
     "execution_count": 13,
     "metadata": {},
     "output_type": "execute_result"
    }
   ],
   "source": [
    "hockey_mean = hockey.mean()\n",
    "hockey_mean # ср значение хоккеистов"
   ]
  },
  {
   "cell_type": "code",
   "execution_count": 14,
   "id": "3659bfdb",
   "metadata": {},
   "outputs": [
    {
     "data": {
      "text/plain": [
       "172.72727272727272"
      ]
     },
     "execution_count": 14,
     "metadata": {},
     "output_type": "execute_result"
    }
   ],
   "source": [
    "fitness_mean = fitness.mean()\n",
    "fitness_mean # ср значение для фитнесс(штангисты)"
   ]
  },
  {
   "cell_type": "code",
   "execution_count": 15,
   "id": "c71418b6",
   "metadata": {},
   "outputs": [
    {
     "data": {
      "text/plain": [
       "array([173, 175, 180, 178, 177, 185, 183, 182, 177, 179, 180, 188, 177,\n",
       "       172, 171, 184, 180, 172, 173, 169, 177, 166, 180, 178, 177, 172,\n",
       "       166, 170])"
      ]
     },
     "execution_count": 15,
     "metadata": {},
     "output_type": "execute_result"
    }
   ],
   "source": [
    "total = np.concatenate([football, hockey, fitness])\n",
    "total"
   ]
  },
  {
   "cell_type": "code",
   "execution_count": 17,
   "id": "1353ff24",
   "metadata": {},
   "outputs": [
    {
     "data": {
      "text/plain": [
       "176.46428571428572"
      ]
     },
     "execution_count": 17,
     "metadata": {},
     "output_type": "execute_result"
    }
   ],
   "source": [
    "y_mean_total = np.mean(total)\n",
    "y_mean_total #Ср значение роста спортсмена "
   ]
  },
  {
   "cell_type": "code",
   "execution_count": 21,
   "id": "77ae0306",
   "metadata": {},
   "outputs": [
    {
     "data": {
      "text/plain": [
       "253.9074675324678"
      ]
     },
     "execution_count": 21,
     "metadata": {},
     "output_type": "execute_result"
    }
   ],
   "source": [
    "S2_F = n1 * (football_mean - y_mean_total) ** 2 + n2 * (hockey_mean - y_mean_total) ** 2 + n3 * (fitness_mean - y_mean_total) ** 2\n",
    "S2_F #Сумма квадратов отключений среди групповых значений от общего среднего"
   ]
  },
  {
   "cell_type": "code",
   "execution_count": 24,
   "id": "7cc097e7",
   "metadata": {},
   "outputs": [
    {
     "data": {
      "text/plain": [
       "830.9642857142858"
      ]
     },
     "execution_count": 24,
     "metadata": {},
     "output_type": "execute_result"
    }
   ],
   "source": [
    "S2_ost = ((football - y_mean_total) ** 2).sum() +  ((hockey - y_mean_total) ** 2).sum() + ((fitness - y_mean_total) ** 2).sum()\n",
    "S2_ost #Сумма квадратов отключений среди групповых значений от общего среднего"
   ]
  },
  {
   "cell_type": "code",
   "execution_count": 25,
   "id": "b53ba78e",
   "metadata": {},
   "outputs": [],
   "source": [
    "k = 3\n",
    "n = n1 + n2 + n3\n",
    "\n",
    "k1 = k - 1\n",
    "k2 = n - k"
   ]
  },
  {
   "cell_type": "code",
   "execution_count": 26,
   "id": "da5d66a0",
   "metadata": {},
   "outputs": [
    {
     "data": {
      "text/plain": [
       "126.9537337662339"
      ]
     },
     "execution_count": 26,
     "metadata": {},
     "output_type": "execute_result"
    }
   ],
   "source": [
    "sigma2_F = S2_F / k1\n",
    "sigma2_F #Факторная дисперсия"
   ]
  },
  {
   "cell_type": "code",
   "execution_count": 29,
   "id": "c3f93e31",
   "metadata": {},
   "outputs": [
    {
     "data": {
      "text/plain": [
       "33.23857142857143"
      ]
     },
     "execution_count": 29,
     "metadata": {},
     "output_type": "execute_result"
    }
   ],
   "source": [
    "sigma2_ost = S2_ost / k2\n",
    "sigma2_ost #Остаточная дисперсия"
   ]
  },
  {
   "cell_type": "code",
   "execution_count": 30,
   "id": "ee644fa8",
   "metadata": {},
   "outputs": [
    {
     "data": {
      "text/plain": [
       "3.819470221187249"
      ]
     },
     "execution_count": 30,
     "metadata": {},
     "output_type": "execute_result"
    }
   ],
   "source": [
    "T = sigma2_F / sigma2_ost\n",
    "T # Значение статистики"
   ]
  },
  {
   "cell_type": "code",
   "execution_count": 32,
   "id": "39543fe5",
   "metadata": {},
   "outputs": [
    {
     "data": {
      "text/plain": [
       "F_onewayResult(statistic=5.500053450812596, pvalue=0.010482206918698694)"
      ]
     },
     "execution_count": 32,
     "metadata": {},
     "output_type": "execute_result"
    }
   ],
   "source": [
    "f = stats.f_oneway(football, hockey, fitness)\n",
    "f"
   ]
  },
  {
   "cell_type": "code",
   "execution_count": 33,
   "id": "e5074b1b",
   "metadata": {},
   "outputs": [
    {
     "data": {
      "text/plain": [
       "3.3851899614491687"
      ]
     },
     "execution_count": 33,
     "metadata": {},
     "output_type": "execute_result"
    }
   ],
   "source": [
    "alpha = 0.05\n",
    "F_crit = stats.f.ppf(1 - alpha, k1, k2)\n",
    "F_crit #Критическое значение"
   ]
  },
  {
   "cell_type": "code",
   "execution_count": null,
   "id": "1d643c45",
   "metadata": {},
   "outputs": [],
   "source": [
    "#Вывод: функция показала pvalue=0.010482206918698694. это значение меньше чем alpha=0.05\n",
    "#Когда pvalue < a, то вывод - альтернативная гипотеза.\n",
    "# T > F_crit то значит что отличие среднего роста спортсмена является статистически значимым"
   ]
  }
 ],
 "metadata": {
  "kernelspec": {
   "display_name": "Python 3 (ipykernel)",
   "language": "python",
   "name": "python3"
  },
  "language_info": {
   "codemirror_mode": {
    "name": "ipython",
    "version": 3
   },
   "file_extension": ".py",
   "mimetype": "text/x-python",
   "name": "python",
   "nbconvert_exporter": "python",
   "pygments_lexer": "ipython3",
   "version": "3.9.13"
  }
 },
 "nbformat": 4,
 "nbformat_minor": 5
}
